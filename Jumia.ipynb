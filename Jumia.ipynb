{
 "cells": [
  {
   "cell_type": "code",
   "execution_count": null,
   "id": "0378d88a-e8a2-4f6b-ac52-a88b5f36834d",
   "metadata": {},
   "outputs": [],
   "source": [
    "from bs4 import BeautifulSoup\n",
    "import requests\n",
    "import datetime\n",
    "import time"
   ]
  },
  {
   "cell_type": "code",
   "execution_count": null,
   "id": "8c9e6fc6-c3b5-47b3-9221-371f5e38b677",
   "metadata": {},
   "outputs": [],
   "source": [
    "url = \"https://www.jumia.com.ng/mlp-lenovo-thinkpad-t480/\"\n",
    "page = requests.get(url)\n",
    "soup = BeautifulSoup(page.text, 'html.parser')\n",
    "soup1 = BeautifulSoup(soup.prettify(), 'html.parser')\n",
    "soup1"
   ]
  },
  {
   "cell_type": "code",
   "execution_count": null,
   "id": "735afa73-7475-458d-9181-27ba188106c1",
   "metadata": {},
   "outputs": [],
   "source": [
    "info = soup1.find_all(class_ =\"info\" )\n",
    "info"
   ]
  },
  {
   "cell_type": "code",
   "execution_count": null,
   "id": "cebdc8f3-353a-4709-a6c5-c995f6b96deb",
   "metadata": {},
   "outputs": [],
   "source": [
    "rows = []\n",
    "for item in info:\n",
    "    badge = item.find(class_='bdg _glb _xs')\n",
    "    title = item.find('h3')\n",
    "    price = item.find(class_='prc')\n",
    "    old_price = item.find(class_='old')\n",
    "    discount = item.find(class_='bdg _dsct _sm')\n",
    "\n",
    "    row = []\n",
    "\n",
    "    if badge:\n",
    "        row.append(badge.text.strip())\n",
    "    else:\n",
    "        row.append('')\n",
    "    if title:\n",
    "        row.append(title.text.strip())\n",
    "    else:\n",
    "        row.append('')\n",
    "    if price:\n",
    "        row.append(price.text.strip())\n",
    "    else:\n",
    "        row.append('')\n",
    "    if old_price:\n",
    "        row.append(old_price.text.strip())\n",
    "    else:\n",
    "        row.append('')\n",
    "    if discount:\n",
    "        row.append(discount.text.strip())\n",
    "    else:\n",
    "        row.append('')\n",
    "        \n",
    "    rows.append(row)\n",
    "    \n",
    "for row in rows:\n",
    "    print(row)\n"
   ]
  },
  {
   "cell_type": "code",
   "execution_count": null,
   "id": "ac19093b-95e3-4d9f-bc21-4324e684466c",
   "metadata": {},
   "outputs": [],
   "source": [
    "import pandas as pd\n",
    "header_name = ['Shipped from', 'Description', 'New Price', 'Old Price', 'Discount']\n",
    "df = pd.DataFrame(columns = header_name, index=None)\n",
    "df"
   ]
  },
  {
   "cell_type": "code",
   "execution_count": null,
   "id": "f38547bc-2ba0-4d3a-9f2a-c2a6b0ad659f",
   "metadata": {},
   "outputs": [],
   "source": [
    "df = pd.concat([df, pd.DataFrame(rows, columns= df.columns)])"
   ]
  },
  {
   "cell_type": "code",
   "execution_count": null,
   "id": "9f9bfd1d-9fcb-4af5-88e8-6c640241ba3a",
   "metadata": {},
   "outputs": [],
   "source": [
    "pd.DataFrame(df).to_csv(r'C:\\Users\\PeterBit\\OneDrive\\Documents\\web_Scriping\\Jumia_Scrap.csv', encoding='utf-8-sig', index=None)"
   ]
  },
  {
   "cell_type": "code",
   "execution_count": null,
   "id": "eb6c55e7-a590-4cc0-8819-5f8f90c8c694",
   "metadata": {},
   "outputs": [],
   "source": [
    "pd.read_csv(r'C:\\Users\\PeterBit\\OneDrive\\Documents\\web_Scriping\\Jumia_Scrap.csv')"
   ]
  }
 ],
 "metadata": {
  "kernelspec": {
   "display_name": "Python [conda env:base] *",
   "language": "python",
   "name": "conda-base-py"
  },
  "language_info": {
   "codemirror_mode": {
    "name": "ipython",
    "version": 3
   },
   "file_extension": ".py",
   "mimetype": "text/x-python",
   "name": "python",
   "nbconvert_exporter": "python",
   "pygments_lexer": "ipython3",
   "version": "3.12.7"
  }
 },
 "nbformat": 4,
 "nbformat_minor": 5
}
