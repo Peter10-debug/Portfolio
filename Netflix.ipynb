{
 "cells": [
  {
   "cell_type": "code",
   "execution_count": null,
   "id": "bc0661b4-4646-4fa5-9215-c9e0f90a4e8d",
   "metadata": {},
   "outputs": [],
   "source": [
    "# Importing pandas and matplotlib\n",
    "import pandas as pd\n",
    "import matplotlib.pyplot as plt\n",
    "\n",
    "# Read in the Netflix CSV as a DataFrame\n",
    "netflix_df = pd.read_csv(\"netflix_data.csv\")"
   ]
  },
  {
   "cell_type": "code",
   "execution_count": null,
   "id": "92eca590-91c9-4015-9e97-c866cc530875",
   "metadata": {},
   "outputs": [],
   "source": [
    "netflix_df.head()\n",
    "netflix_df[\"release_year\"] = netflix_df[\"release_year\"].astype(int)\n",
    "\n",
    "movies_90s = netflix_df[(netflix_df[\"release_year\"] >= 1990) & (netflix_df[\"release_year\"] <= 1999)]\n",
    "\n",
    "movies_90s.head()\n",
    "\n",
    "most_frequent_duration = movies_90s[\"duration\"].mode()[0]\n",
    "print(f\"The most frequent movie duration in the 1990s: {most_frequent_duration} minutes\")\n",
    "\n",
    "short_action_movies = movies_90s[(movies_90s[\"duration\"] < 90) & (movies_90s[\"genre\"] == \"Action\")]\n",
    "\n",
    "short_movie_count = short_action_movies.shape[0]\n",
    "print(f\"Number of short action movies in the 1990s: {short_movie_count}\")\n",
    "\n",
    "plt.figure(figsize=(8,5))\n",
    "plt.hist(movies_90s[\"duration\"], bins=20, edgecolor=\"black\", alpha=0.7)\n",
    "plt.xlabel(\"Movie Duration (minutes)\")\n",
    "plt.ylabel(\"Frequency\")\n",
    "plt.title(\"Distribution of Movie Durations in the 1990s\")\n",
    "plt.show()"
   ]
  },
  {
   "cell_type": "code",
   "execution_count": null,
   "id": "d711df49-eda4-4cdf-9dfa-2f02bbf5a68a",
   "metadata": {},
   "outputs": [],
   "source": []
  },
  {
   "cell_type": "code",
   "execution_count": null,
   "id": "dc39263d-16ac-4b19-bde9-ce0d5b299464",
   "metadata": {},
   "outputs": [],
   "source": []
  }
 ],
 "metadata": {
  "kernelspec": {
   "display_name": "Python [conda env:base] *",
   "language": "python",
   "name": "conda-base-py"
  },
  "language_info": {
   "codemirror_mode": {
    "name": "ipython",
    "version": 3
   },
   "file_extension": ".py",
   "mimetype": "text/x-python",
   "name": "python",
   "nbconvert_exporter": "python",
   "pygments_lexer": "ipython3",
   "version": "3.12.7"
  }
 },
 "nbformat": 4,
 "nbformat_minor": 5
}
